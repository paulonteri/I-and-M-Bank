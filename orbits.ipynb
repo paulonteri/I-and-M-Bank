{
 "cells": [
  {
   "cell_type": "code",
   "execution_count": 748,
   "metadata": {},
   "outputs": [
    {
     "data": {
      "text/html": [
       "<div>\n",
       "<style>\n",
       "    .dataframe thead tr:only-child th {\n",
       "        text-align: right;\n",
       "    }\n",
       "\n",
       "    .dataframe thead th {\n",
       "        text-align: left;\n",
       "    }\n",
       "\n",
       "    .dataframe tbody tr th {\n",
       "        vertical-align: top;\n",
       "    }\n",
       "</style>\n",
       "<table border=\"1\" class=\"dataframe\">\n",
       "  <thead>\n",
       "    <tr style=\"text-align: right;\">\n",
       "      <th></th>\n",
       "      <th>Name</th>\n",
       "      <th>Announcement</th>\n",
       "      <th>Death</th>\n",
       "      <th>Burial</th>\n",
       "      <th>Burial_Day</th>\n",
       "      <th>Burial_Week</th>\n",
       "      <th>Gender</th>\n",
       "      <th>Age</th>\n",
       "      <th>Color</th>\n",
       "      <th>Size</th>\n",
       "      <th>...</th>\n",
       "      <th>Morgue</th>\n",
       "      <th>Same_Morgue</th>\n",
       "      <th>Cost_Morgue</th>\n",
       "      <th>Occupation</th>\n",
       "      <th>Repetition</th>\n",
       "      <th>Corporate</th>\n",
       "      <th>Corporate_Name</th>\n",
       "      <th>Residence</th>\n",
       "      <th>Residence_Name</th>\n",
       "      <th>Residence_Category</th>\n",
       "    </tr>\n",
       "  </thead>\n",
       "  <tbody>\n",
       "    <tr>\n",
       "      <th>0</th>\n",
       "      <td>Eng. Paul Chemweno</td>\n",
       "      <td>11/8/2017</td>\n",
       "      <td>11/2/2017</td>\n",
       "      <td>11/17/2017</td>\n",
       "      <td>Friday</td>\n",
       "      <td>Weekday</td>\n",
       "      <td>Male</td>\n",
       "      <td>66.0</td>\n",
       "      <td>Yes</td>\n",
       "      <td>55.18</td>\n",
       "      <td>...</td>\n",
       "      <td>MTRH Eldoret</td>\n",
       "      <td>No</td>\n",
       "      <td>NaN</td>\n",
       "      <td>Director</td>\n",
       "      <td>NaN</td>\n",
       "      <td>NaN</td>\n",
       "      <td>NaN</td>\n",
       "      <td>NaN</td>\n",
       "      <td>NaN</td>\n",
       "      <td>NaN</td>\n",
       "    </tr>\n",
       "    <tr>\n",
       "      <th>1</th>\n",
       "      <td>Edith Kiende Kiogora</td>\n",
       "      <td>11/8/2017</td>\n",
       "      <td>10/27/2017</td>\n",
       "      <td>11/11/2017</td>\n",
       "      <td>Saturday</td>\n",
       "      <td>Weekend</td>\n",
       "      <td>Female</td>\n",
       "      <td>43.0</td>\n",
       "      <td>Yes</td>\n",
       "      <td>83.60</td>\n",
       "      <td>...</td>\n",
       "      <td>Chogoria Hospital Mortuary</td>\n",
       "      <td>No</td>\n",
       "      <td>NaN</td>\n",
       "      <td>Teacher</td>\n",
       "      <td>NaN</td>\n",
       "      <td>NaN</td>\n",
       "      <td>NaN</td>\n",
       "      <td>NaN</td>\n",
       "      <td>NaN</td>\n",
       "      <td>NaN</td>\n",
       "    </tr>\n",
       "    <tr>\n",
       "      <th>2</th>\n",
       "      <td>Simon Muchiri Ngigii Mbaria</td>\n",
       "      <td>11/8/2017</td>\n",
       "      <td>11/1/2017</td>\n",
       "      <td>11/8/2017</td>\n",
       "      <td>Wednesday</td>\n",
       "      <td>Weekday</td>\n",
       "      <td>Male</td>\n",
       "      <td>35.0</td>\n",
       "      <td>Yes</td>\n",
       "      <td>109.12</td>\n",
       "      <td>...</td>\n",
       "      <td>Umash Nakuru</td>\n",
       "      <td>No</td>\n",
       "      <td>NaN</td>\n",
       "      <td>Teacher</td>\n",
       "      <td>NaN</td>\n",
       "      <td>NaN</td>\n",
       "      <td>NaN</td>\n",
       "      <td>NaN</td>\n",
       "      <td>NaN</td>\n",
       "      <td>NaN</td>\n",
       "    </tr>\n",
       "    <tr>\n",
       "      <th>3</th>\n",
       "      <td>Mwalimu Erick Namusasi Werunga</td>\n",
       "      <td>11/8/2017</td>\n",
       "      <td>10/24/2017</td>\n",
       "      <td>11/9/2017</td>\n",
       "      <td>Thursday</td>\n",
       "      <td>Weekday</td>\n",
       "      <td>Male</td>\n",
       "      <td>54.0</td>\n",
       "      <td>Yes</td>\n",
       "      <td>83.60</td>\n",
       "      <td>...</td>\n",
       "      <td>Maida Mortuary</td>\n",
       "      <td>NaN</td>\n",
       "      <td>NaN</td>\n",
       "      <td>Teacher</td>\n",
       "      <td>NaN</td>\n",
       "      <td>NaN</td>\n",
       "      <td>NaN</td>\n",
       "      <td>NaN</td>\n",
       "      <td>NaN</td>\n",
       "      <td>NaN</td>\n",
       "    </tr>\n",
       "    <tr>\n",
       "      <th>4</th>\n",
       "      <td>Catherine Mueni Sina</td>\n",
       "      <td>11/8/2017</td>\n",
       "      <td>11/2/2017</td>\n",
       "      <td>11/11/2017</td>\n",
       "      <td>Saturday</td>\n",
       "      <td>Weekend</td>\n",
       "      <td>Female</td>\n",
       "      <td>41.0</td>\n",
       "      <td>No</td>\n",
       "      <td>55.18</td>\n",
       "      <td>...</td>\n",
       "      <td>NaN</td>\n",
       "      <td>NaN</td>\n",
       "      <td>NaN</td>\n",
       "      <td>NaN</td>\n",
       "      <td>NaN</td>\n",
       "      <td>NaN</td>\n",
       "      <td>NaN</td>\n",
       "      <td>NaN</td>\n",
       "      <td>NaN</td>\n",
       "      <td>NaN</td>\n",
       "    </tr>\n",
       "  </tbody>\n",
       "</table>\n",
       "<p>5 rows × 39 columns</p>\n",
       "</div>"
      ],
      "text/plain": [
       "                             Name Announcement       Death      Burial  \\\n",
       "0              Eng. Paul Chemweno    11/8/2017   11/2/2017  11/17/2017   \n",
       "1            Edith Kiende Kiogora    11/8/2017  10/27/2017  11/11/2017   \n",
       "2     Simon Muchiri Ngigii Mbaria    11/8/2017   11/1/2017   11/8/2017   \n",
       "3  Mwalimu Erick Namusasi Werunga    11/8/2017  10/24/2017   11/9/2017   \n",
       "4            Catherine Mueni Sina    11/8/2017   11/2/2017  11/11/2017   \n",
       "\n",
       "  Burial_Day Burial_Week  Gender   Age Color    Size        ...          \\\n",
       "0     Friday     Weekday    Male  66.0   Yes   55.18        ...           \n",
       "1   Saturday     Weekend  Female  43.0   Yes   83.60        ...           \n",
       "2  Wednesday     Weekday    Male  35.0   Yes  109.12        ...           \n",
       "3   Thursday     Weekday    Male  54.0   Yes   83.60        ...           \n",
       "4   Saturday     Weekend  Female  41.0    No   55.18        ...           \n",
       "\n",
       "                       Morgue  Same_Morgue  Cost_Morgue  Occupation  \\\n",
       "0                MTRH Eldoret           No          NaN    Director   \n",
       "1  Chogoria Hospital Mortuary           No          NaN     Teacher   \n",
       "2                Umash Nakuru           No          NaN     Teacher   \n",
       "3              Maida Mortuary          NaN          NaN     Teacher   \n",
       "4                         NaN          NaN          NaN         NaN   \n",
       "\n",
       "  Repetition Corporate Corporate_Name Residence Residence_Name  \\\n",
       "0        NaN       NaN            NaN       NaN            NaN   \n",
       "1        NaN       NaN            NaN       NaN            NaN   \n",
       "2        NaN       NaN            NaN       NaN            NaN   \n",
       "3        NaN       NaN            NaN       NaN            NaN   \n",
       "4        NaN       NaN            NaN       NaN            NaN   \n",
       "\n",
       "  Residence_Category  \n",
       "0                NaN  \n",
       "1                NaN  \n",
       "2                NaN  \n",
       "3                NaN  \n",
       "4                NaN  \n",
       "\n",
       "[5 rows x 39 columns]"
      ]
     },
     "execution_count": 748,
     "metadata": {},
     "output_type": "execute_result"
    }
   ],
   "source": [
    "import pandas as pd\n",
    "import numpy as np\n",
    "import matplotlib.pyplot as plt\n",
    "import seaborn as sns\n",
    "import warnings\n",
    "warnings.filterwarnings('ignore')\n",
    "%matplotlib inline\n",
    "\n",
    "from sklearn.preprocessing import LabelEncoder\n",
    "\n",
    "import xgboost as xgb\n",
    "from sklearn.ensemble import RandomForestClassifier, AdaBoostClassifier, GradientBoostingClassifier, ExtraTreesClassifier\n",
    "import lifelines\n",
    "from sklearn.model_selection import GridSearchCV, cross_val_score, StratifiedKFold, learning_curve, RandomizedSearchCV\n",
    "from sklearn.neighbors import KNeighborsClassifier\n",
    "from sklearn.svm import SVC\n",
    "\n",
    "data = pd.read_csv(\"Obituaries_Dataset.csv\")\n",
    "data.head()"
   ]
  },
  {
   "cell_type": "markdown",
   "metadata": {},
   "source": [
    "## <font color='blue'> Question 1: Kaplan-Meier Survial Analysis <font>\n",
    "Survival Analysis methods like Kaplan-Meier are used to give time until an event occurs, often referred to as death. In this case all the subjects are literally dead, thus features such as gender, colour, fundraising, spouse alive, spouse gender, do not contain death events that subjects are at a risk. A good example of a Kaplan-Meier application would have been, estimating the probability of users who in this case are alive of having a fundraiser at a specific age. "
   ]
  },
  {
   "cell_type": "markdown",
   "metadata": {},
   "source": [
    "## <font color='blue'> Question 2: Predict deaths that are likely to need a fundraising. </font>"
   ]
  },
  {
   "cell_type": "code",
   "execution_count": 749,
   "metadata": {},
   "outputs": [
    {
     "name": "stdout",
     "output_type": "stream",
     "text": [
      "percentage of missing values: Name, 0.0%\n",
      "percentage of missing values: Announcement, 2.01%\n",
      "percentage of missing values: Death, 30.83%\n",
      "percentage of missing values: Burial, 9.84%\n",
      "percentage of missing values: Burial_Day, 9.91%\n",
      "percentage of missing values: Burial_Week, 9.91%\n",
      "percentage of missing values: Gender, 0.0%\n",
      "percentage of missing values: Age, 60.73%\n",
      "percentage of missing values: Color, 0.15%\n",
      "percentage of missing values: Size, 4.18%\n",
      "percentage of missing values: Word_Count, 4.18%\n",
      "percentage of missing values: No_of_Children, 15.34%\n",
      "percentage of missing values: Significant_Children, 15.41%\n",
      "percentage of missing values: Significant_Relatives, 16.11%\n",
      "percentage of missing values: Fundraising, 11.54%\n",
      "percentage of missing values: Death_to_Announce, 0.0%\n",
      "percentage of missing values: Death_to_Burial, 3.64%\n",
      "percentage of missing values: Announce_to_Burial, 1.01%\n",
      "percentage of missing values: No_of_Relatives, 17.82%\n",
      "percentage of missing values: County_Burial, 19.13%\n",
      "percentage of missing values: County_Death, 59.33%\n",
      "percentage of missing values: County_Morgue, 31.84%\n",
      "percentage of missing values: Distance_Death, 62.35%\n",
      "percentage of missing values: Distance_Morgue, 32.53%\n",
      "percentage of missing values: Cause_of_Death, 38.19%\n",
      "percentage of missing values: Married, 18.82%\n",
      "percentage of missing values: Spouse_Alive, 26.96%\n",
      "percentage of missing values: Spouse_gender, 27.58%\n",
      "percentage of missing values: Hospital, 79.32%\n",
      "percentage of missing values: Morgue, 33.0%\n",
      "percentage of missing values: Same_Morgue, 84.28%\n",
      "percentage of missing values: Cost_Morgue, 99.85%\n",
      "percentage of missing values: Occupation, 80.56%\n",
      "percentage of missing values: Repetition, 94.81%\n",
      "percentage of missing values: Corporate, 95.51%\n",
      "percentage of missing values: Corporate_Name, 92.8%\n",
      "percentage of missing values: Residence, 97.37%\n",
      "percentage of missing values: Residence_Name, 97.37%\n",
      "percentage of missing values: Residence_Category, 97.37%\n",
      "old size (1291, 39)\n",
      "new size (1291, 29)\n"
     ]
    }
   ],
   "source": [
    "for k, v in data.isnull().sum().items():\n",
    "    print(\"percentage of missing values: {0}, {1}%\".format(k, round(v/data.shape[0]*100, 2)))\n",
    "\n",
    "print(\"old size {}\".format(data.shape))\n",
    "test_names = data[data['Fundraising'].isnull()]\n",
    "test_names = test_names['Name']\n",
    "data = data.drop([\"Name\"], axis=1)\n",
    "data = data[[k for k, v in data.isnull().sum().items() if v/data.shape[0] < 0.8]]\n",
    "print(\"new size {}\".format(data.shape))"
   ]
  },
  {
   "cell_type": "code",
   "execution_count": 750,
   "metadata": {},
   "outputs": [
    {
     "data": {
      "image/png": "[encoded data removed]",
      "text/plain": [
       "<matplotlib.figure.Figure at 0x7fe0779c7860>"
      ]
     },
     "metadata": {},
     "output_type": "display_data"
    }
   ],
   "source": [
    "df = data[data['County_Burial'].notnull() & data['Fundraising'].notnull()]\n",
    "tables = df.groupby(['County_Burial', 'Fundraising'])['Fundraising'].count()\n",
    "tables = tables.unstack('Fundraising').fillna(0).sort_values(\"Yes\", ascending=True)\n",
    "tables.plot(kind='bar', stacked=True, figsize=(18, 5))\n",
    "plt.title(\"Fundraising in the counties\")\n",
    "plt.show()"
   ]
  },
  {
   "cell_type": "markdown",
   "metadata": {},
   "source": [
    "* The fundraised vs non-fundraised ratio seems to be almost equal accross the board, large  counties like kiambu have the biggest number of fundraisers. Death annoucements are dominated by the central Kenya counties."
   ]
  },
  {
   "cell_type": "code",
   "execution_count": 751,
   "metadata": {},
   "outputs": [
    {
     "data": {
      "image/png": "[encoded data removed]",
      "text/plain": [
       "<matplotlib.figure.Figure at 0x7fe07786f4a8>"
      ]
     },
     "metadata": {},
     "output_type": "display_data"
    }
   ],
   "source": [
    "df = data[data['No_of_Children'].notnull() & data['Fundraising'].notnull()]\n",
    "df['Fundraising'] = df['Fundraising'].map({\"Yes\": 1, \"No\":0})\n",
    "g = sns.factorplot(x='No_of_Children', y='Fundraising', data=df, size=12)\n",
    "g = g.set_ylabels('Fundraising probability')\n"
   ]
  },
  {
   "cell_type": "markdown",
   "metadata": {},
   "source": [
    "* There is a decline in the number of fundraisers for families between 2 and 6, but from that point it is unpredictable at best. "
   ]
  },
  {
   "cell_type": "code",
   "execution_count": 752,
   "metadata": {},
   "outputs": [
    {
     "data": {
      "text/plain": [
       "Text(0.5,0.98,'Fundraising by Age and gender')"
      ]
     },
     "execution_count": 752,
     "metadata": {},
     "output_type": "execute_result"
    },
    {
     "data": {
      "image/png": "[encoded data removed]",
      "text/plain": [
       "<matplotlib.figure.Figure at 0x7fe079435b00>"
      ]
     },
     "metadata": {},
     "output_type": "display_data"
    },
    {
     "data": {
      "image/png": "[encoded data removed]",
      "text/plain": [
       "<matplotlib.figure.Figure at 0x7fe077992dd8>"
      ]
     },
     "metadata": {},
     "output_type": "display_data"
    }
   ],
   "source": [
    "df = data[data['Age'].notnull() & data['Fundraising'].notnull() & data['Gender'].notnull()]\n",
    "g = sns.factorplot(y='Age', x='Fundraising', data=df, kind='box')\n",
    "g = sns.factorplot(y='Age', x='Fundraising', hue='Gender', data=df, kind='box')\n",
    "g.fig.suptitle(\"Fundraising by Age and gender\")"
   ]
  },
  {
   "cell_type": "markdown",
   "metadata": {},
   "source": [
    "* As the age increases the number of fundraises  decrease"
   ]
  },
  {
   "cell_type": "code",
   "execution_count": 753,
   "metadata": {},
   "outputs": [
    {
     "data": {
      "image/png": "[encoded data removed]",
      "text/plain": [
       "<matplotlib.figure.Figure at 0x7fe077c17ba8>"
      ]
     },
     "metadata": {},
     "output_type": "display_data"
    }
   ],
   "source": [
    "g = sns.factorplot(x='Fundraising', y='Age', data=df, kind='violin')"
   ]
  },
  {
   "cell_type": "code",
   "execution_count": 754,
   "metadata": {},
   "outputs": [
    {
     "data": {
      "image/png": "[encoded data removed]",
      "text/plain": [
       "<matplotlib.figure.Figure at 0x7fe0777c1b70>"
      ]
     },
     "metadata": {},
     "output_type": "display_data"
    }
   ],
   "source": [
    "df = data[data['Fundraising'].notnull() & data['Age'].notnull() & data['Size'].notnull()]\n",
    "colors = {\"Yes\": \"red\", \"No\": \"green\"}\n",
    "\n",
    "fig, ax = plt.subplots()\n",
    "grouped = df.groupby('Fundraising')\n",
    "for key, group in grouped:\n",
    "    group.plot(ax = ax, kind='scatter', x='Age', y=\"Size\", label=key, color=colors[key])\n",
    "plt.title(\"Size of the Announcement vs Age\")\n",
    "plt.show()"
   ]
  },
  {
   "cell_type": "markdown",
   "metadata": {},
   "source": [
    "* Most announcement were below the size of 300, of the 4 biggest announcements, 3 of them fundraised"
   ]
  },
  {
   "cell_type": "code",
   "execution_count": 755,
   "metadata": {},
   "outputs": [
    {
     "data": {
      "text/html": [
       "<div>\n",
       "<style>\n",
       "    .dataframe thead tr:only-child th {\n",
       "        text-align: right;\n",
       "    }\n",
       "\n",
       "    .dataframe thead th {\n",
       "        text-align: left;\n",
       "    }\n",
       "\n",
       "    .dataframe tbody tr th {\n",
       "        vertical-align: top;\n",
       "    }\n",
       "</style>\n",
       "<table border=\"1\" class=\"dataframe\">\n",
       "  <thead>\n",
       "    <tr style=\"text-align: right;\">\n",
       "      <th></th>\n",
       "      <th>Announcement</th>\n",
       "      <th>Death</th>\n",
       "      <th>Burial</th>\n",
       "      <th>Burial_Day</th>\n",
       "      <th>Burial_Week</th>\n",
       "      <th>Gender</th>\n",
       "      <th>Age</th>\n",
       "      <th>Color</th>\n",
       "      <th>Size</th>\n",
       "      <th>Word_Count</th>\n",
       "      <th>...</th>\n",
       "      <th>County_Death</th>\n",
       "      <th>County_Morgue</th>\n",
       "      <th>Distance_Death</th>\n",
       "      <th>Distance_Morgue</th>\n",
       "      <th>Cause_of_Death</th>\n",
       "      <th>Married</th>\n",
       "      <th>Spouse_Alive</th>\n",
       "      <th>Spouse_gender</th>\n",
       "      <th>Hospital</th>\n",
       "      <th>Morgue</th>\n",
       "    </tr>\n",
       "  </thead>\n",
       "  <tbody>\n",
       "    <tr>\n",
       "      <th>0</th>\n",
       "      <td>16</td>\n",
       "      <td>49</td>\n",
       "      <td>21</td>\n",
       "      <td>0</td>\n",
       "      <td>1</td>\n",
       "      <td>1</td>\n",
       "      <td>66.0</td>\n",
       "      <td>1</td>\n",
       "      <td>55.18</td>\n",
       "      <td>77</td>\n",
       "      <td>...</td>\n",
       "      <td>34</td>\n",
       "      <td>47</td>\n",
       "      <td>0</td>\n",
       "      <td>0</td>\n",
       "      <td>6</td>\n",
       "      <td>1</td>\n",
       "      <td>2</td>\n",
       "      <td>0</td>\n",
       "      <td>66</td>\n",
       "      <td>151</td>\n",
       "    </tr>\n",
       "    <tr>\n",
       "      <th>1</th>\n",
       "      <td>16</td>\n",
       "      <td>34</td>\n",
       "      <td>16</td>\n",
       "      <td>2</td>\n",
       "      <td>3</td>\n",
       "      <td>0</td>\n",
       "      <td>43.0</td>\n",
       "      <td>1</td>\n",
       "      <td>83.60</td>\n",
       "      <td>191</td>\n",
       "      <td>...</td>\n",
       "      <td>23</td>\n",
       "      <td>42</td>\n",
       "      <td>36</td>\n",
       "      <td>0</td>\n",
       "      <td>6</td>\n",
       "      <td>1</td>\n",
       "      <td>2</td>\n",
       "      <td>1</td>\n",
       "      <td>83</td>\n",
       "      <td>33</td>\n",
       "    </tr>\n",
       "    <tr>\n",
       "      <th>2</th>\n",
       "      <td>16</td>\n",
       "      <td>42</td>\n",
       "      <td>37</td>\n",
       "      <td>6</td>\n",
       "      <td>1</td>\n",
       "      <td>1</td>\n",
       "      <td>35.0</td>\n",
       "      <td>1</td>\n",
       "      <td>109.12</td>\n",
       "      <td>105</td>\n",
       "      <td>...</td>\n",
       "      <td>29</td>\n",
       "      <td>30</td>\n",
       "      <td>0</td>\n",
       "      <td>159</td>\n",
       "      <td>6</td>\n",
       "      <td>1</td>\n",
       "      <td>2</td>\n",
       "      <td>0</td>\n",
       "      <td>13</td>\n",
       "      <td>310</td>\n",
       "    </tr>\n",
       "    <tr>\n",
       "      <th>3</th>\n",
       "      <td>16</td>\n",
       "      <td>31</td>\n",
       "      <td>38</td>\n",
       "      <td>4</td>\n",
       "      <td>1</td>\n",
       "      <td>1</td>\n",
       "      <td>54.0</td>\n",
       "      <td>1</td>\n",
       "      <td>83.60</td>\n",
       "      <td>69</td>\n",
       "      <td>...</td>\n",
       "      <td>36</td>\n",
       "      <td>44</td>\n",
       "      <td>0</td>\n",
       "      <td>174</td>\n",
       "      <td>6</td>\n",
       "      <td>1</td>\n",
       "      <td>0</td>\n",
       "      <td>0</td>\n",
       "      <td>131</td>\n",
       "      <td>157</td>\n",
       "    </tr>\n",
       "    <tr>\n",
       "      <th>4</th>\n",
       "      <td>16</td>\n",
       "      <td>49</td>\n",
       "      <td>16</td>\n",
       "      <td>2</td>\n",
       "      <td>3</td>\n",
       "      <td>0</td>\n",
       "      <td>41.0</td>\n",
       "      <td>0</td>\n",
       "      <td>55.18</td>\n",
       "      <td>48</td>\n",
       "      <td>...</td>\n",
       "      <td>34</td>\n",
       "      <td>51</td>\n",
       "      <td>67</td>\n",
       "      <td>174</td>\n",
       "      <td>2</td>\n",
       "      <td>2</td>\n",
       "      <td>3</td>\n",
       "      <td>1</td>\n",
       "      <td>131</td>\n",
       "      <td>322</td>\n",
       "    </tr>\n",
       "  </tbody>\n",
       "</table>\n",
       "<p>5 rows × 28 columns</p>\n",
       "</div>"
      ],
      "text/plain": [
       "   Announcement  Death  Burial  Burial_Day  Burial_Week  Gender   Age  Color  \\\n",
       "0            16     49      21           0            1       1  66.0      1   \n",
       "1            16     34      16           2            3       0  43.0      1   \n",
       "2            16     42      37           6            1       1  35.0      1   \n",
       "3            16     31      38           4            1       1  54.0      1   \n",
       "4            16     49      16           2            3       0  41.0      0   \n",
       "\n",
       "     Size  Word_Count   ...    County_Death  County_Morgue  Distance_Death  \\\n",
       "0   55.18          77   ...              34             47               0   \n",
       "1   83.60         191   ...              23             42              36   \n",
       "2  109.12         105   ...              29             30               0   \n",
       "3   83.60          69   ...              36             44               0   \n",
       "4   55.18          48   ...              34             51              67   \n",
       "\n",
       "   Distance_Morgue  Cause_of_Death  Married  Spouse_Alive  Spouse_gender  \\\n",
       "0                0               6        1             2              0   \n",
       "1                0               6        1             2              1   \n",
       "2              159               6        1             2              0   \n",
       "3              174               6        1             0              0   \n",
       "4              174               2        2             3              1   \n",
       "\n",
       "   Hospital  Morgue  \n",
       "0        66     151  \n",
       "1        83      33  \n",
       "2        13     310  \n",
       "3       131     157  \n",
       "4       131     322  \n",
       "\n",
       "[5 rows x 28 columns]"
      ]
     },
     "execution_count": 755,
     "metadata": {},
     "output_type": "execute_result"
    }
   ],
   "source": [
    "fund = data['Fundraising']\n",
    "data = data[[k for k in data.columns if k != \"Fundraising\"]]\n",
    "\n",
    "cols = list(data.columns)\n",
    "\n",
    "all_cols = data.dtypes\n",
    "obj_cols = [col for col in cols if not (all_cols[col] == \"float64\") ]\n",
    "\n",
    "for x in obj_cols:\n",
    "    data[x] = data[x].apply(lambda x: str(x))\n",
    "    \n",
    "for col in obj_cols:\n",
    "    le = LabelEncoder()\n",
    "    le.fit(data[col])\n",
    "    data[col] = le.transform(data[col])\n",
    "data.head()"
   ]
  },
  {
   "cell_type": "code",
   "execution_count": 756,
   "metadata": {},
   "outputs": [],
   "source": [
    "null_cols = data.isnull().sum().sort_values(ascending=True)\n",
    "\n",
    "for k, v in null_cols.items():\n",
    "    if not (v == 0) :\n",
    "        train = data[data[k].notnull()]\n",
    "        test = data[data[k].isnull()]\n",
    "        \n",
    "        y_train = train[k]    #try to filter those without nans\n",
    "        x_train = train.drop(k, axis=1)\n",
    "        \n",
    "        x_test = test.drop(k, axis=1)        \n",
    "        mod = xgb.XGBRegressor()\n",
    "        mod.fit(x_train, y_train)\n",
    "        \n",
    "        pred = mod.predict(x_test)\n",
    "        test[k] = pred\n",
    "        \n",
    "        data = pd.concat([train, test], axis=0, ignore_index=False)\n",
    "        "
   ]
  },
  {
   "cell_type": "code",
   "execution_count": 757,
   "metadata": {},
   "outputs": [
    {
     "data": {
      "text/plain": [
       "(149, 28)"
      ]
     },
     "execution_count": 757,
     "metadata": {},
     "output_type": "execute_result"
    }
   ],
   "source": [
    "data.sort_index(inplace=True)\n",
    "data['Fundraising'] = fund\n",
    "\n",
    "train = data[data['Fundraising'].notnull()]\n",
    "test = data[data['Fundraising'].isnull()]\n",
    "\n",
    "train['Fundraising'] = train['Fundraising'].map({\"Yes\":1, \"No\": 0})\n",
    "y_train = train['Fundraising']\n",
    "x_train = train.drop(['Fundraising'], axis=1)\n",
    "\n",
    "x_test = test.drop('Fundraising', axis=1)\n",
    "x_test.shape"
   ]
  },
  {
   "cell_type": "code",
   "execution_count": 758,
   "metadata": {},
   "outputs": [
    {
     "data": {
      "text/html": [
       "<div>\n",
       "<style>\n",
       "    .dataframe thead tr:only-child th {\n",
       "        text-align: right;\n",
       "    }\n",
       "\n",
       "    .dataframe thead th {\n",
       "        text-align: left;\n",
       "    }\n",
       "\n",
       "    .dataframe tbody tr th {\n",
       "        vertical-align: top;\n",
       "    }\n",
       "</style>\n",
       "<table border=\"1\" class=\"dataframe\">\n",
       "  <thead>\n",
       "    <tr style=\"text-align: right;\">\n",
       "      <th></th>\n",
       "      <th>Alg</th>\n",
       "      <th>CrossValerrors</th>\n",
       "      <th>CrossValsMeans</th>\n",
       "    </tr>\n",
       "  </thead>\n",
       "  <tbody>\n",
       "    <tr>\n",
       "      <th>4</th>\n",
       "      <td>XGB</td>\n",
       "      <td>0.016009</td>\n",
       "      <td>0.781941</td>\n",
       "    </tr>\n",
       "    <tr>\n",
       "      <th>3</th>\n",
       "      <td>GB</td>\n",
       "      <td>0.022194</td>\n",
       "      <td>0.771422</td>\n",
       "    </tr>\n",
       "    <tr>\n",
       "      <th>1</th>\n",
       "      <td>RF</td>\n",
       "      <td>0.020605</td>\n",
       "      <td>0.749607</td>\n",
       "    </tr>\n",
       "    <tr>\n",
       "      <th>2</th>\n",
       "      <td>ETC</td>\n",
       "      <td>0.017140</td>\n",
       "      <td>0.704916</td>\n",
       "    </tr>\n",
       "    <tr>\n",
       "      <th>5</th>\n",
       "      <td>KNN</td>\n",
       "      <td>0.027345</td>\n",
       "      <td>0.663699</td>\n",
       "    </tr>\n",
       "    <tr>\n",
       "      <th>0</th>\n",
       "      <td>SVC</td>\n",
       "      <td>0.001037</td>\n",
       "      <td>0.607708</td>\n",
       "    </tr>\n",
       "  </tbody>\n",
       "</table>\n",
       "</div>"
      ],
      "text/plain": [
       "   Alg  CrossValerrors  CrossValsMeans\n",
       "4  XGB        0.016009        0.781941\n",
       "3   GB        0.022194        0.771422\n",
       "1   RF        0.020605        0.749607\n",
       "2  ETC        0.017140        0.704916\n",
       "5  KNN        0.027345        0.663699\n",
       "0  SVC        0.001037        0.607708"
      ]
     },
     "execution_count": 758,
     "metadata": {},
     "output_type": "execute_result"
    }
   ],
   "source": [
    "rs= 2\n",
    "kfold=StratifiedKFold(n_splits=5, random_state=rs, shuffle=True)\n",
    "classifiers = []\n",
    "classifiers.append(SVC(random_state = rs))\n",
    "classifiers.append(RandomForestClassifier(random_state=rs))\n",
    "classifiers.append(ExtraTreesClassifier(random_state=rs))\n",
    "classifiers.append(GradientBoostingClassifier(random_state=rs))\n",
    "classifiers.append(xgb.XGBClassifier(seed=rs))\n",
    "classifiers.append(KNeighborsClassifier())\n",
    "\n",
    "cv_results = []\n",
    "for classifier in classifiers:\n",
    "    cv_results.append(cross_val_score(classifier, x_train, y=y_train, scoring='accuracy', cv=kfold))\n",
    "\n",
    "cv_means = []\n",
    "cv_std = []\n",
    "\n",
    "for cv_result in cv_results:\n",
    "    cv_means.append(cv_result.mean())\n",
    "    cv_std.append(cv_result.std())\n",
    "    \n",
    "cv_res = pd.DataFrame({\"CrossValsMeans\": cv_means, \"CrossValerrors\": cv_std, \n",
    "            \"Alg\": [\"SVC\", \"RF\", \"ETC\", \"GB\", \"XGB\", \"KNN\"]})\n",
    "cv_res.sort_values(\"CrossValsMeans\", ascending=False)\n"
   ]
  },
  {
   "cell_type": "code",
   "execution_count": 765,
   "metadata": {},
   "outputs": [
    {
     "name": "stdout",
     "output_type": "stream",
     "text": [
      "Fitting 2 folds for each of 7 candidates, totalling 14 fits\n"
     ]
    },
    {
     "name": "stderr",
     "output_type": "stream",
     "text": [
      "[Parallel(n_jobs=1)]: Done  14 out of  14 | elapsed:    2.6s finished\n"
     ]
    },
    {
     "name": "stdout",
     "output_type": "stream",
     "text": [
      "parameters :8<=1<=2<=5=>8=>7=>10, score: 0.8642484071335299\n",
      "Fitting 2 folds for each of 7 candidates, totalling 14 fits\n"
     ]
    },
    {
     "name": "stderr",
     "output_type": "stream",
     "text": [
      "[Parallel(n_jobs=1)]: Done  14 out of  14 | elapsed:    2.8s finished\n"
     ]
    },
    {
     "name": "stdout",
     "output_type": "stream",
     "text": [
      "parameters :5<=6<=7<=10=>4=>4=>9, score: 0.8676641945775164\n",
      "Fitting 2 folds for each of 7 candidates, totalling 14 fits\n"
     ]
    },
    {
     "name": "stderr",
     "output_type": "stream",
     "text": [
      "[Parallel(n_jobs=1)]: Done  14 out of  14 | elapsed:    1.3s finished\n"
     ]
    },
    {
     "name": "stdout",
     "output_type": "stream",
     "text": [
      "parameters :4<=1<=1<=6=>2=>1=>1, score: 0.8676641945775164\n",
      "Fitting 2 folds for each of 7 candidates, totalling 14 fits\n"
     ]
    },
    {
     "name": "stderr",
     "output_type": "stream",
     "text": [
      "[Parallel(n_jobs=1)]: Done  14 out of  14 | elapsed:    2.3s finished\n"
     ]
    },
    {
     "name": "stdout",
     "output_type": "stream",
     "text": [
      "parameters :1<=2<=3<=6=>9=>8=>7, score: 0.8676641945775164\n",
      "Fitting 2 folds for each of 7 candidates, totalling 14 fits\n"
     ]
    },
    {
     "name": "stderr",
     "output_type": "stream",
     "text": [
      "[Parallel(n_jobs=1)]: Done  14 out of  14 | elapsed:    2.7s finished\n"
     ]
    },
    {
     "name": "stdout",
     "output_type": "stream",
     "text": [
      "parameters :4<=4<=5<=6=>7=>7=>8, score: 0.8676641945775164\n",
      "Fitting 2 folds for each of 7 candidates, totalling 14 fits\n"
     ]
    },
    {
     "name": "stderr",
     "output_type": "stream",
     "text": [
      "[Parallel(n_jobs=1)]: Done  14 out of  14 | elapsed:    2.6s finished\n"
     ]
    },
    {
     "name": "stdout",
     "output_type": "stream",
     "text": [
      "parameters :5<=5<=5<=6=>6=>6=>7, score: 0.8676641945775164\n",
      "Fitting 2 folds for each of 7 candidates, totalling 14 fits\n"
     ]
    },
    {
     "name": "stderr",
     "output_type": "stream",
     "text": [
      "[Parallel(n_jobs=1)]: Done  14 out of  14 | elapsed:    2.8s finished\n"
     ]
    },
    {
     "name": "stdout",
     "output_type": "stream",
     "text": [
      "parameters :6<=6<=6<=6=>6=>6=>6, score: 0.8676641945775164\n",
      "Processed finished with best parameter: 6, score: 0.8676641945775164\n"
     ]
    }
   ],
   "source": [
    "#SELECT THE VALUE AT THE CENTER AS THE PARAMETER, set lowest and highest\n",
    "\n",
    "rf = xgb.XGBClassifier(seed=3, max_depth=5)\n",
    "rs = 3\n",
    "kk = True\n",
    "\n",
    "extra_best = rf\n",
    "initial_starter = starter = extra_best.max_depth #starter should be same size as the best parameter\n",
    "old_score = -100\n",
    "previous_results = []\n",
    "while kk :\n",
    "    \n",
    "    nn = extra_best.max_depth\n",
    "    \n",
    "    n_minus = nn - starter      \n",
    "    n_minus_one = n_minus + starter/2\n",
    "    n_minus_two = n_minus_one - starter/4\n",
    "    n_plus = nn + starter\n",
    "    n_plus_one = n_plus - starter/2\n",
    "    n_plus_two = n_plus_one + starter/4\n",
    "    optima = [n_minus,n_minus_two,n_minus_one, nn, n_plus_two,n_plus_one, n_plus]\n",
    "    \n",
    "    for i, x in enumerate(optima):\n",
    "        #optima[i] = int(x)\n",
    "        if (x < 1)| (x >10):\n",
    "            optima[i] = np.random.randint(1,10)    #.randint(2, 10, 3) #.random(5)\n",
    "        else:\n",
    "            optima[i] = int(x)\n",
    "\n",
    "    \n",
    "    ex_param_grid = {\n",
    "        \"max_depth\":optima\n",
    "        \n",
    "            }\n",
    "    \n",
    "    #set n_jobs for GridSearch to the numbers of cores to speed up\n",
    "    extra = GridSearchCV(extra_best, param_grid=ex_param_grid, cv=StratifiedKFold(n_splits=2, shuffle=True, random_state=rs), scoring='roc_auc', verbose=1)\n",
    "    extra.fit(x_train, y_train)    \n",
    "    extra_best_estimator = extra.best_estimator_\n",
    "    new_score =  extra.best_score_\n",
    "   \n",
    "    \n",
    "        \n",
    "    vals = \"{0}<={1}<={2}<={3}=>{4}=>{5}=>{6}\".format(optima[0], optima[1], optima[2], optima[3], optima[4], optima[5], optima[6])\n",
    "    \n",
    "    print(\"parameters :{0}, score: {1}\".format(vals, new_score))\n",
    "    \n",
    "    \n",
    "    previous_results.append(new_score)\n",
    "    if len(previous_results) == 7:\n",
    "        previous_results.pop(0)\n",
    "    \n",
    "    if new_score > old_score:\n",
    "        old_score = new_score\n",
    "        extra_best = extra_best_estimator\n",
    "        starter = nn\n",
    "        \n",
    "    elif new_score == old_score:\n",
    "        new_starter = int(starter/2)\n",
    "        \n",
    "        if new_starter != starter:            \n",
    "            starter = new_starter\n",
    "                      \n",
    "            #when there are all five previous results are same stop\n",
    "            if (len(previous_results) == 5) & (len(set(previous_results)) == 1):\n",
    "                print(\"Has shown no any improvement after 5 runs\")\n",
    "                kk = False         \n",
    "        else:\n",
    "            kk = False  \n",
    "    else:\n",
    "        kk = False\n",
    "print(\"Processed finished with best parameter: {0}, score: {1}\".format(nn, old_score))\n"
   ]
  },
  {
   "cell_type": "code",
   "execution_count": 766,
   "metadata": {},
   "outputs": [
    {
     "name": "stdout",
     "output_type": "stream",
     "text": [
      "[1, 1, 1, 1, 0, 0, 0, 1, 0]\n"
     ]
    }
   ],
   "source": [
    "xgbm = xgb.XGBClassifier(seed=7,max_depth=6, n_estimators=787)\n",
    "xgbm.fit(x_train, y_train)\n",
    "pred = xgbm.predict(x_test)\n",
    "pred = [round(abs(x), 0) for x in pred]\n",
    "sub = pd.DataFrame({\"Name\": test_names, \"Fundraising\": pred})\n",
    "sub.to_csv(\"fund.csv\")\n",
    "print(pred[:9])"
   ]
  },
  {
   "cell_type": "code",
   "execution_count": null,
   "metadata": {
    "collapsed": true
   },
   "outputs": [],
   "source": []
  },
  {
   "cell_type": "code",
   "execution_count": null,
   "metadata": {
    "collapsed": true
   },
   "outputs": [],
   "source": []
  }
 ],
 "metadata": {
  "kernelspec": {
   "display_name": "Python 3",
   "language": "python",
   "name": "python3"
  },
  "language_info": {
   "codemirror_mode": {
    "name": "ipython",
    "version": 3
   },
   "file_extension": ".py",
   "mimetype": "text/x-python",
   "name": "python",
   "nbconvert_exporter": "python",
   "pygments_lexer": "ipython3",
   "version": "3.6.2"
  }
 },
 "nbformat": 4,
 "nbformat_minor": 2
}
